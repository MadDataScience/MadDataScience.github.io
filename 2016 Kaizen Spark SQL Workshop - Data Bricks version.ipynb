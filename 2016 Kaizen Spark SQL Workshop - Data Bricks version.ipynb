{
 "cells": [
  {
   "cell_type": "markdown",
   "metadata": {
    "slideshow": {
     "slide_type": "slide"
    }
   },
   "source": [
    "# Spark SQL and Joining Distribted Data Frames\n",
    "\n",
    "**Alessandro Gagliardi**  \n",
    "_Lead Professor_  \n",
    "GalvanizeU powered by University of New Haven  \n",
    "Twitter: `@MadDataScience`"
   ]
  },
  {
   "cell_type": "markdown",
   "metadata": {
    "slideshow": {
     "slide_type": "slide"
    }
   },
   "source": [
    "### Overview\n",
    "\n",
    "1. A (very) brief history of SQL and the relational model\n",
    "2. Scaling and NoSQL\n",
    "3. Spark SQL to the rescue\n",
    "4. The Trouble with Joins"
   ]
  },
  {
   "cell_type": "markdown",
   "metadata": {
    "slideshow": {
     "slide_type": "subslide"
    }
   },
   "source": [
    "### You are expected to already:\n",
    "\n",
    "1. Be familiar with the basics of SQL including JOIN\n",
    "2. Be familiar with the basics of Apache Spark including RDDs and Map and Reduce operations"
   ]
  },
  {
   "cell_type": "markdown",
   "metadata": {
    "slideshow": {
     "slide_type": "subslide"
    }
   },
   "source": [
    "### By the end of this workshop, you should be able to:\n",
    "\n",
    "1. Place SQL in its historical context with regard to databases and distributed architectures\n",
    "2. Explain the difference between NoSQL and NOSQL\n",
    "3. Identify which JOIN method to use according to the data involved\n",
    "3. Use Spark to join Cassandra tables"
   ]
  },
  {
   "cell_type": "markdown",
   "metadata": {
    "slideshow": {
     "slide_type": "slide"
    }
   },
   "source": [
    "## DB Evolution"
   ]
  },
  {
   "cell_type": "markdown",
   "metadata": {
    "slideshow": {
     "slide_type": "fragment"
    }
   },
   "source": [
    "#### 1960s - B.C. (Before Codd)\n",
    "\n",
    "- Hierarchical data structure (IBM IMS)\n",
    "- Network data structure (CODASYL)"
   ]
  },
  {
   "cell_type": "markdown",
   "metadata": {
    "slideshow": {
     "slide_type": "subslide"
    }
   },
   "source": [
    "#### 1970s - The Birth of the Relational Model\n",
    "- [_A Relational Model of Data for Large Shared Data Banks_](https://www.seas.upenn.edu/~zives/03f/cis550/codd.pdf) by E.F. Codd (1970)\n",
    "- Relational Model: Relations, Tuples, and Attributes\n",
    "- Structured Query Language (SQL): Tables, Rows, and Columns"
   ]
  },
  {
   "cell_type": "markdown",
   "metadata": {
    "slideshow": {
     "slide_type": "subslide"
    }
   },
   "source": [
    "#### 1980s - Commercialization of RDBMS\n",
    "- [_Principles of Transaction-Oriented Database Recovery_](https://web.stanford.edu/class/cs340v/papers/recovery.pdf) by Haerder & Reuter (1983)\n",
    "- Atomicity, Consistency, Isolation, Durability (ACID)\n",
    "- Oracle, IBM DB2, Sybase, Microsoft SQL Server_etc._"
   ]
  },
  {
   "cell_type": "markdown",
   "metadata": {
    "slideshow": {
     "slide_type": "subslide"
    }
   },
   "source": [
    "#### 1990s - PC and Open Source RDBMS\n",
    "- [_The Third Manifesto_](http://www09.sigmod.org/sigmod/record/issues/9503/manifesto.ps) by Darwen & Date (1995)\n",
    "- MySQL and PostgreSQL\n",
    "- LAMP (Linux, Apache, MySQL, PHP) Stack"
   ]
  },
  {
   "cell_type": "markdown",
   "metadata": {
    "slideshow": {
     "slide_type": "subslide"
    }
   },
   "source": [
    "#### 2000s - Begining of Big Data\n",
    "- [_Towards Robust Distributed Systems_](https://people.eecs.berkeley.edu/~brewer/cs262b-2004/PODC-keynote.pdf) by Eric Brewer (2000)\n",
    "- Consistency, Availability, and Partition tolerance (CAP)\n",
    "- Google File System, Bigtable, MapReduce, _etc._"
   ]
  },
  {
   "cell_type": "markdown",
   "metadata": {
    "slideshow": {
     "slide_type": "subslide"
    }
   },
   "source": [
    "#### 2010s - Open Source Big Data\n",
    "\n",
    "- Distributed Data Analysis - Hadoop, Spark, Storm, _etc._\n",
    "- NoSQL (or more appropriately 'NoREL') - Cassandra, Mongo, Riak, _etc._"
   ]
  },
  {
   "cell_type": "markdown",
   "metadata": {
    "slideshow": {
     "slide_type": "slide"
    }
   },
   "source": [
    "### The Relational Model in SQL"
   ]
  },
  {
   "cell_type": "markdown",
   "metadata": {
    "slideshow": {
     "slide_type": "fragment"
    }
   },
   "source": [
    "#### CRUD\n",
    "\n",
    "- **C**reate - **INSERT**\n",
    "- **R**ead   - **SELECT**\n",
    "- **U**pdate - **UPDATE**\n",
    "- **D**elete - **DELETE**"
   ]
  },
  {
   "cell_type": "markdown",
   "metadata": {
    "slideshow": {
     "slide_type": "subslide"
    }
   },
   "source": [
    "#### Operations on Relations\n",
    "\n",
    "1. Permutation\n",
    "2. Projection\n",
    "3. Join\n",
    "4. Composition\n",
    "5. Restriction"
   ]
  },
  {
   "cell_type": "markdown",
   "metadata": {
    "slideshow": {
     "slide_type": "subslide"
    }
   },
   "source": [
    "##### SQL Example: \n",
    "```sql\n",
    "  \n",
    "SELECT customers.name, -- permuation and projection\n",
    "     visits.created_at \n",
    "FROM visits JOIN customers -- join and composition\n",
    "     USING (customer_id)    \n",
    "WHERE customer_id = 1  -- restriction\n",
    "```"
   ]
  },
  {
   "cell_type": "markdown",
   "metadata": {
    "slideshow": {
     "slide_type": "fragment"
    }
   },
   "source": [
    "##### Which operation do you think is the most challenging to implement in a distributed architecture?"
   ]
  },
  {
   "cell_type": "markdown",
   "metadata": {
    "slideshow": {
     "slide_type": "slide"
    }
   },
   "source": [
    "Q: Are joins slow? <br /> A: It depends."
   ]
  },
  {
   "cell_type": "markdown",
   "metadata": {
    "slideshow": {
     "slide_type": "slide"
    }
   },
   "source": [
    "#### Join Algorithms\n",
    "\n",
    "- Nested Loop Join\n",
    "  - Pseudocode\n",
    "  \n",
    "  ```\n",
    "  For each tuple r in R do\n",
    "     For each tuple s in S do\n",
    "        If r and s satisfy the join condition\n",
    "           Then output the tuple <r,s>\n",
    "           \n",
    "  ```  \n",
    "  - Time: `O(R*S)`"
   ]
  },
  {
   "cell_type": "markdown",
   "metadata": {
    "slideshow": {
     "slide_type": "subslide"
    }
   },
   "source": [
    "- Sort-Merge Join\n",
    "  - If sorted: `O(R+S)`\n",
    "  - If not sorted: `O(R*log(R)+S*log(S))`"
   ]
  },
  {
   "cell_type": "markdown",
   "metadata": {
    "slideshow": {
     "slide_type": "subslide"
    }
   },
   "source": [
    "- Hash Join\n",
    "  1. Build hash table (_i.e._ key-value store) of smaller relation in memory\n",
    "  2. Scan larger relation for relevant rows"
   ]
  },
  {
   "cell_type": "markdown",
   "metadata": {
    "slideshow": {
     "slide_type": "slide"
    }
   },
   "source": [
    "## NoSQL"
   ]
  },
  {
   "cell_type": "markdown",
   "metadata": {
    "slideshow": {
     "slide_type": "slide"
    }
   },
   "source": [
    "NoSQL means NoREL  \n",
    "NoREL means NoJOIN\n",
    "\n",
    "[CQL (Cassandra Query Language) example](https://docs.datastax.com/en/cql/3.0/cql/cql_reference/select_r.html):\n",
    "```sql\n",
    "SELECT select_expression\n",
    "FROM keyspace_name.table_name\n",
    "WHERE relation AND relation ... \n",
    "ORDER BY ( clustering_column ( ASC | DESC )...)\n",
    "LIMIT n\n",
    "```\n",
    "\n",
    "Q: What do you do if you can't join?  \n",
    "A: Denormalize!  \n",
    "Q: What's wrong with denormalization?"
   ]
  },
  {
   "cell_type": "code",
   "execution_count": null,
   "metadata": {
    "collapsed": true,
    "slideshow": {
     "slide_type": "subslide"
    }
   },
   "outputs": [],
   "source": [
    "{u'contributors': None,\n",
    " u'coordinates': None,\n",
    " u'created_at': u'Fri Jan 23 04:23:34 +0000 2015',\n",
    " u'entities': {u'hashtags': [{u'indices': [84, 95], u'text': u'500kLubaTV'}],\n",
    "  u'media': [{u'display_url': u'pic.twitter.com/1zhgdIaxsl',\n",
    "    u'expanded_url': u'http://twitter.com/LubaTV/status/558474724968529921/photo/1',\n",
    "    u'id': 558474718849007616L,\n",
    "    u'id_str': u'558474718849007616',\n",
    "    u'indices': [96, 118],\n",
    "    u'media_url': u'http://pbs.twimg.com/media/B8AZzEEIAAAFGY0.jpg',\n",
    "    u'media_url_https': u'https://pbs.twimg.com/media/B8AZzEEIAAAFGY0.jpg',\n",
    "    u'sizes': {u'large': {u'h': 270, u'resize': u'fit', u'w': 750},\n",
    "     u'medium': {u'h': 216, u'resize': u'fit', u'w': 600},\n",
    "     u'small': {u'h': 122, u'resize': u'fit', u'w': 340},\n",
    "     u'thumb': {u'h': 150, u'resize': u'crop', u'w': 150}},\n",
    "    u'source_status_id': 558474724968529921L,\n",
    "    u'source_status_id_str': u'558474724968529921',\n",
    "    u'source_user_id': 121517065,\n",
    "    u'source_user_id_str': u'121517065',\n",
    "    u'type': u'photo',\n",
    "    u'url': u'http://t.co/1zhgdIaxsl'}],\n",
    "  u'symbols': [],\n",
    "  u'urls': [],\n",
    "  u'user_mentions': [{u'id': 121517065,\n",
    "    u'id_str': u'121517065',\n",
    "    u'indices': [3, 10],\n",
    "    u'name': u'Lucas Feuersch\\xfctte',\n",
    "    u'screen_name': u'LubaTV'}]},\n",
    " u'favorite_count': 0,\n",
    " u'favorited': False,\n",
    " u'geo': None,\n",
    " u'id': 558480131778691072L,\n",
    " u'id_str': u'558480131778691072',\n",
    " u'in_reply_to_screen_name': None,\n",
    " u'in_reply_to_status_id': None,\n",
    " u'in_reply_to_status_id_str': None,\n",
    " u'in_reply_to_user_id': None,\n",
    " u'in_reply_to_user_id_str': None,\n",
    " u'lang': u'pt',\n",
    " u'metadata': {u'iso_language_code': u'pt', u'result_type': u'recent'},\n",
    " u'place': None,\n",
    " u'possibly_sensitive': False,\n",
    " u'retweet_count': 395,\n",
    " u'retweeted': False,\n",
    " u'retweeted_status': {u'contributors': None,\n",
    "  u'coordinates': None,\n",
    "  u'created_at': u'Fri Jan 23 04:02:05 +0000 2015',\n",
    "  u'entities': {u'hashtags': [{u'indices': [72, 83], u'text': u'500kLubaTV'}],\n",
    "   u'media': [{u'display_url': u'pic.twitter.com/1zhgdIaxsl',\n",
    "     u'expanded_url': u'http://twitter.com/LubaTV/status/558474724968529921/photo/1',\n",
    "     u'id': 558474718849007616L,\n",
    "     u'id_str': u'558474718849007616',\n",
    "     u'indices': [84, 106],\n",
    "     u'media_url': u'http://pbs.twimg.com/media/B8AZzEEIAAAFGY0.jpg',\n",
    "     u'media_url_https': u'https://pbs.twimg.com/media/B8AZzEEIAAAFGY0.jpg',\n",
    "     u'sizes': {u'large': {u'h': 270, u'resize': u'fit', u'w': 750},\n",
    "      u'medium': {u'h': 216, u'resize': u'fit', u'w': 600},\n",
    "      u'small': {u'h': 122, u'resize': u'fit', u'w': 340},\n",
    "      u'thumb': {u'h': 150, u'resize': u'crop', u'w': 150}},\n",
    "     u'type': u'photo',\n",
    "     u'url': u'http://t.co/1zhgdIaxsl'}],\n",
    "   u'symbols': [],\n",
    "   u'urls': [],\n",
    "   u'user_mentions': []},\n",
    "  u'favorite_count': 901,\n",
    "  u'favorited': False,\n",
    "  u'geo': None,\n",
    "  u'id': 558474724968529921L,\n",
    "  u'id_str': u'558474724968529921',\n",
    "  u'in_reply_to_screen_name': None,\n",
    "  u'in_reply_to_status_id': None,\n",
    "  u'in_reply_to_status_id_str': None,\n",
    "  u'in_reply_to_user_id': None,\n",
    "  u'in_reply_to_user_id_str': None,\n",
    "  u'lang': u'pt',\n",
    "  u'metadata': {u'iso_language_code': u'pt', u'result_type': u'recent'},\n",
    "  u'place': None,\n",
    "  u'possibly_sensitive': False,\n",
    "  u'retweet_count': 395,\n",
    "  u'retweeted': False,\n",
    "  u'source': u'<a href=\"http://twitter.com/download/iphone\" rel=\"nofollow\">Twitter for iPhone</a>',\n",
    "  u'text': u\"\\xc9 oficial, turma. Somos 500 mil agora! Obrigado, obrigado por tudo. =') #500kLubaTV http://t.co/1zhgdIaxsl\",\n",
    "  u'truncated': False,\n",
    "  u'user': {u'contributors_enabled': False,\n",
    "   u'created_at': u'Tue Mar 09 19:04:06 +0000 2010',\n",
    "   u'default_profile': False,\n",
    "   u'default_profile_image': False,\n",
    "   u'description': u'Sou da turma! \\u270c\\ufe0f Contato: lubatv3@gmail.com | Instagram & Facebook: LubaTV | Caixa Postal 174, 88701-970 Tubar\\xe3o - SC | \\xdaltimo v\\xeddeo: \\u2b07\\ufe0f',\n",
    "   u'entities': {u'description': {u'urls': []},\n",
    "    u'url': {u'urls': [{u'display_url': u'youtu.be/ntMBRQYs-hI',\n",
    "       u'expanded_url': u'http://youtu.be/ntMBRQYs-hI',\n",
    "       u'indices': [0, 22],\n",
    "       u'url': u'http://t.co/4n2e3pI9To'}]}},\n",
    "   u'favourites_count': 722,\n",
    "   u'follow_request_sent': False,\n",
    "   u'followers_count': 118167,\n",
    "   u'following': False,\n",
    "   u'friends_count': 548,\n",
    "   u'geo_enabled': True,\n",
    "   u'id': 121517065,\n",
    "   u'id_str': u'121517065',\n",
    "   u'is_translation_enabled': False,\n",
    "   u'is_translator': False,\n",
    "   u'lang': u'pt',\n",
    "   u'listed_count': 261,\n",
    "   u'location': u'',\n",
    "   u'name': u'Lucas Feuersch\\xfctte',\n",
    "   u'notifications': False,\n",
    "   u'profile_background_color': u'FFF04D',\n",
    "   u'profile_background_image_url': u'http://pbs.twimg.com/profile_background_images/520656124547067904/of-yDc4j.jpeg',\n",
    "   u'profile_background_image_url_https': u'https://pbs.twimg.com/profile_background_images/520656124547067904/of-yDc4j.jpeg',\n",
    "   u'profile_background_tile': True,\n",
    "   u'profile_banner_url': u'https://pbs.twimg.com/profile_banners/121517065/1419199713',\n",
    "   u'profile_image_url': u'http://pbs.twimg.com/profile_images/553302094132690944/cEZfRo8r_normal.png',\n",
    "   u'profile_image_url_https': u'https://pbs.twimg.com/profile_images/553302094132690944/cEZfRo8r_normal.png',\n",
    "   u'profile_link_color': u'0099CC',\n",
    "   u'profile_location': None,\n",
    "   u'profile_sidebar_border_color': u'FFFFFF',\n",
    "   u'profile_sidebar_fill_color': u'DDEEF6',\n",
    "   u'profile_text_color': u'333333',\n",
    "   u'profile_use_background_image': True,\n",
    "   u'protected': False,\n",
    "   u'screen_name': u'LubaTV',\n",
    "   u'statuses_count': 36586,\n",
    "   u'time_zone': u'Brasilia',\n",
    "   u'url': u'http://t.co/4n2e3pI9To',\n",
    "   u'utc_offset': -7200,\n",
    "   u'verified': False}},\n",
    " u'source': u'<a href=\"http://twitter.com\" rel=\"nofollow\">Twitter Web Client</a>',\n",
    " u'text': u\"RT @LubaTV: \\xc9 oficial, turma. Somos 500 mil agora! Obrigado, obrigado por tudo. =') #500kLubaTV http://t.co/1zhgdIaxsl\",\n",
    " u'truncated': False,\n",
    " u'user': {u'contributors_enabled': False,\n",
    "  u'created_at': u'Thu Dec 20 20:15:56 +0000 2012',\n",
    "  u'default_profile': False,\n",
    "  u'default_profile_image': False,\n",
    "  u'description': u'F\\xe3 de uns carinhas ai do YouTube \\u2665 1/1/15 - Rafa respondeu *u*                       19/01/15 - Nay Respondeu *u* #Forfun\\xe1tica',\n",
    "  u'entities': {u'description': {u'urls': []}},\n",
    "  u'favourites_count': 596,\n",
    "  u'follow_request_sent': False,\n",
    "  u'followers_count': 36,\n",
    "  u'following': False,\n",
    "  u'friends_count': 94,\n",
    "  u'geo_enabled': False,\n",
    "  u'id': 1024945802,\n",
    "  u'id_str': u'1024945802',\n",
    "  u'is_translation_enabled': False,\n",
    "  u'is_translator': False,\n",
    "  u'lang': u'pt',\n",
    "  u'listed_count': 1,\n",
    "  u'location': u'Rio de Janeiro',\n",
    "  u'name': u'Biah #ADR ',\n",
    "  u'notifications': False,\n",
    "  u'profile_background_color': u'ACDED6',\n",
    "  u'profile_background_image_url': u'http://abs.twimg.com/images/themes/theme18/bg.gif',\n",
    "  u'profile_background_image_url_https': u'https://abs.twimg.com/images/themes/theme18/bg.gif',\n",
    "  u'profile_background_tile': False,\n",
    "  u'profile_banner_url': u'https://pbs.twimg.com/profile_banners/1024945802/1421771885',\n",
    "  u'profile_image_url': u'http://pbs.twimg.com/profile_images/556923388615090176/UiQb8z54_normal.jpeg',\n",
    "  u'profile_image_url_https': u'https://pbs.twimg.com/profile_images/556923388615090176/UiQb8z54_normal.jpeg',\n",
    "  u'profile_link_color': u'9266CC',\n",
    "  u'profile_location': None,\n",
    "  u'profile_sidebar_border_color': u'FFFFFF',\n",
    "  u'profile_sidebar_fill_color': u'F6F6F6',\n",
    "  u'profile_text_color': u'333333',\n",
    "  u'profile_use_background_image': True,\n",
    "  u'protected': False,\n",
    "  u'screen_name': u'_beatriz_27',\n",
    "  u'statuses_count': 838,\n",
    "  u'time_zone': u'Brasilia',\n",
    "  u'url': None,\n",
    "  u'utc_offset': -7200,\n",
    "  u'verified': False}}"
   ]
  },
  {
   "cell_type": "markdown",
   "metadata": {
    "slideshow": {
     "slide_type": "subslide"
    }
   },
   "source": [
    "(to be fair, normalized data can be quite complex too)\n",
    "\n",
    "Q: What's the *real* problem with denormalization?  \n",
    "A: It limits the kinds of questions you can ask."
   ]
  },
  {
   "cell_type": "markdown",
   "metadata": {
    "slideshow": {
     "slide_type": "slide"
    }
   },
   "source": [
    "## Spark SQL to the rescue!"
   ]
  },
  {
   "cell_type": "markdown",
   "metadata": {
    "collapsed": true,
    "slideshow": {
     "slide_type": "slide"
    }
   },
   "source": [
    "Spark SQL is not an RDBMS\n",
    "\n",
    "Rather (like Hive) merely translates SQL queries into jobs that can be run against a distributed file system\n",
    "* Hive translates HQL into Hadoop MapReduce jobs\n",
    "* Spark SQL translates SQL into Spark a DAG of transformations (including `map()` and `reduce()`)"
   ]
  },
  {
   "cell_type": "markdown",
   "metadata": {
    "slideshow": {
     "slide_type": "slide"
    }
   },
   "source": [
    "Spark SQL employs SchemaRDDs, more specifically Spark DataFrames.\n",
    "\n",
    "What is a DataFrame?\n",
    "\n",
    "- DataFrames are the primary abstraction in Spark SQL.\n",
    "\n",
    "- Think of a DataFrames as RDDs with schema. "
   ]
  },
  {
   "cell_type": "markdown",
   "metadata": {
    "collapsed": true,
    "slideshow": {
     "slide_type": "fragment"
    }
   },
   "source": [
    "What is a schema?\n",
    "\n",
    "- Schemas are metadata about your data.\n",
    "\n",
    "- Schemas define table names, column names, and column types over your\n",
    "  data.\n",
    "\n",
    "- Schemas enable using SQL and DataFrame syntax to query your RDDs,\n",
    "  instead of using column positions."
   ]
  },
  {
   "cell_type": "markdown",
   "metadata": {
    "slideshow": {
     "slide_type": "slide"
    }
   },
   "source": [
    "Spark SQL Using CSV\n",
    "-------------------\n",
    "\n",
    "How can I pull in my CSV data and use Spark SQL on it?\n",
    "\n",
    "- Make sure the CSV exists."
   ]
  },
  {
   "cell_type": "code",
   "execution_count": null,
   "metadata": {
    "collapsed": false,
    "slideshow": {
     "slide_type": "-"
    }
   },
   "outputs": [],
   "source": [
    "%fs put --overwrite=true sales.csv \"\"\"#ID,Date,Store,State,Product,Amount\n",
    "101,11/13/2014,100,WA,331,300.00\n",
    "104,11/18/2014,700,OR,329,450.00\n",
    "102,11/15/2014,203,CA,321,200.00\n",
    "106,11/19/2014,202,CA,331,330.00\n",
    "103,11/17/2014,101,WA,373,750.00\n",
    "105,11/19/2014,202,CA,321,200.00\n",
    "\"\"\""
   ]
  },
  {
   "cell_type": "markdown",
   "metadata": {
    "slideshow": {
     "slide_type": "subslide"
    }
   },
   "source": [
    "- Read the file and convert columns to right types."
   ]
  },
  {
   "cell_type": "code",
   "execution_count": null,
   "metadata": {
    "collapsed": false,
    "slideshow": {
     "slide_type": "-"
    }
   },
   "outputs": [],
   "source": [
    "rdd = sc.textFile('sales.csv')\\\n",
    "    .filter(lambda line: not line.startswith('#'))\\\n",
    "    .map(lambda line: line.split(','))\\\n",
    "    .map(lambda \\\n",
    "      (id,date,store,state,product,amount):\\\n",
    "      (int(id),date,int(store),state,int(product),float(amount)))\n",
    "rdd.collect()"
   ]
  },
  {
   "cell_type": "markdown",
   "metadata": {
    "slideshow": {
     "slide_type": "skip"
    }
   },
   "source": [
    "- Import data types."
   ]
  },
  {
   "cell_type": "code",
   "execution_count": null,
   "metadata": {
    "collapsed": true,
    "slideshow": {
     "slide_type": "skip"
    }
   },
   "outputs": [],
   "source": [
    "from pyspark.sql.types import *"
   ]
  },
  {
   "cell_type": "markdown",
   "metadata": {
    "slideshow": {
     "slide_type": "subslide"
    }
   },
   "source": [
    "- Define a schema."
   ]
  },
  {
   "cell_type": "code",
   "execution_count": null,
   "metadata": {
    "collapsed": true,
    "slideshow": {
     "slide_type": "-"
    }
   },
   "outputs": [],
   "source": [
    "schema = StructType( [\n",
    "    StructField('id',IntegerType(),True),\n",
    "    StructField('date',StringType(),True),\n",
    "    StructField('store',IntegerType(),True),\n",
    "    StructField('state',StringType(),True),\n",
    "    StructField('product',IntegerType(),True),\n",
    "    StructField('amount',FloatType(),True) ] )"
   ]
  },
  {
   "cell_type": "markdown",
   "metadata": {
    "slideshow": {
     "slide_type": "subslide"
    }
   },
   "source": [
    "- Define the DataFrame object."
   ]
  },
  {
   "cell_type": "code",
   "execution_count": null,
   "metadata": {
    "collapsed": true,
    "slideshow": {
     "slide_type": "-"
    }
   },
   "outputs": [],
   "source": [
    "df = sqlContext.createDataFrame(rdd, schema)\n",
    "df.show()"
   ]
  },
  {
   "cell_type": "markdown",
   "metadata": {
    "slideshow": {
     "slide_type": "slide"
    }
   },
   "source": [
    "<!--\n",
    "Pop Quiz\n",
    "--------\n",
    "\n",
    "<details><summary>\n",
    "What change do we have to make to the code above if we are\n",
    "processing a TSV file instead of a CSV file?\n",
    "</summary>\n",
    "<br>\n",
    "Replace `line.split(',')` with `line.split('\\t')`\n",
    "</details>\n",
    "-->\n",
    "Using SQL With DataFrames\n",
    "-------------------------\n",
    "\n",
    "How can I run SQL queries on DataFrames?\n",
    "\n",
    "- Register the table with SqlContext."
   ]
  },
  {
   "cell_type": "code",
   "execution_count": null,
   "metadata": {
    "collapsed": true,
    "slideshow": {
     "slide_type": "fragment"
    }
   },
   "outputs": [],
   "source": [
    "df.registerTempTable('sales')"
   ]
  },
  {
   "cell_type": "markdown",
   "metadata": {
    "slideshow": {
     "slide_type": "subslide"
    }
   },
   "source": [
    "- Run queries on the registered tables."
   ]
  },
  {
   "cell_type": "code",
   "execution_count": null,
   "metadata": {
    "collapsed": true,
    "slideshow": {
     "slide_type": "-"
    }
   },
   "outputs": [],
   "source": [
    "%sql SELECT state, amount FROM sales WHERE amount > 100"
   ]
  },
  {
   "cell_type": "markdown",
   "metadata": {
    "slideshow": {
     "slide_type": "slide"
    }
   },
   "source": [
    "# **The Trouble with Joins**\n",
    "\n",
    "There are certain times when you may have to customize joins performed by Spark. One of those options is the `BroadcastHashJoin` while the other is the `ShuffledHashJoin`.\n",
    "* Enabling `BroadcastHashJoin` can optimize joining a large and a small table in Spark SQL.\n",
    "* This notebook will cover the how to configure a `BroadcastHashJoin` and why to choose it over a `ShuffledHashJoin`.\n",
    "\n",
    "The following is adapted from [this presentation](http://www.slideshare.net/databricks/strata-sj-everyday-im-shuffling-tips-for-writing-better-spark-programs)."
   ]
  },
  {
   "cell_type": "markdown",
   "metadata": {
    "slideshow": {
     "slide_type": "slide"
    }
   },
   "source": [
    "### Join a Large Table with a Small Table\n",
    "\n",
    "```sql\n",
    "SELECT * \n",
    "  FROM people_in_the_us \n",
    "  JOIN states\n",
    "  ON people_in_the_us.state = states.name\n",
    "```  \n",
    "<BR />  \n",
    "  \n",
    "* **`ShuffledHashJoin?`**\n",
    "* **`BroadcastHashJoin?`**"
   ]
  },
  {
   "cell_type": "markdown",
   "metadata": {
    "slideshow": {
     "slide_type": "subslide"
    }
   },
   "source": [
    "![ShuffledHashJoin](http://image.slidesharecdn.com/stratasj-everydayimshuffling-tipsforwritingbettersparkprograms-150223113317-conversion-gate02/95/everyday-im-shuffling-tips-for-writing-better-spark-programs-strata-san-jose-2015-13-638.jpg?cb=1427111079)"
   ]
  },
  {
   "cell_type": "markdown",
   "metadata": {
    "slideshow": {
     "slide_type": "subslide"
    }
   },
   "source": [
    "![BroadcastHashJoin](http://image.slidesharecdn.com/stratasj-everydayimshuffling-tipsforwritingbettersparkprograms-150223113317-conversion-gate02/95/everyday-im-shuffling-tips-for-writing-better-spark-programs-strata-san-jose-2015-14-638.jpg?cb=1427111079)"
   ]
  },
  {
   "cell_type": "markdown",
   "metadata": {
    "slideshow": {
     "slide_type": "slide"
    }
   },
   "source": [
    "### Join a Medium Table with a Huge Table\n",
    "```sql\n",
    "SELECT *\n",
    "  FROM people_in_california\n",
    "  LEFT JOIN all_the_people_in_the_world\n",
    "  ON people_in_california.id = all_the_people_in_the_world.id\n",
    "```  \n",
    "  \n",
    "**Final output keys = keys `people_in_california`, so this doesn't need a huge Spark cluster, right?**"
   ]
  },
  {
   "cell_type": "markdown",
   "metadata": {
    "slideshow": {
     "slide_type": "subslide"
    }
   },
   "source": [
    "![Left Join - Shuffle Step](http://image.slidesharecdn.com/stratasj-everydayimshuffling-tipsforwritingbettersparkprograms-150223113317-conversion-gate02/95/everyday-im-shuffling-tips-for-writing-better-spark-programs-strata-san-jose-2015-17-638.jpg?cb=1427111079)"
   ]
  },
  {
   "cell_type": "markdown",
   "metadata": {
    "slideshow": {
     "slide_type": "subslide"
    }
   },
   "source": [
    "![What's a Better Solution?](http://image.slidesharecdn.com/stratasj-everydayimshuffling-tipsforwritingbettersparkprograms-150223113317-conversion-gate02/95/everyday-im-shuffling-tips-for-writing-better-spark-programs-strata-san-jose-2015-18-638.jpg?cb=1427111079)"
   ]
  },
  {
   "cell_type": "markdown",
   "metadata": {
    "slideshow": {
     "slide_type": "slide"
    }
   },
   "source": [
    "### **Practice:** Create a large table that will be joined with a smaller table."
   ]
  },
  {
   "cell_type": "code",
   "execution_count": null,
   "metadata": {
    "collapsed": true,
    "slideshow": {
     "slide_type": "skip"
    }
   },
   "outputs": [],
   "source": [
    "from pyspark.sql import Row\n",
    "\n",
    "array = []\n",
    "for i in range(0, 1000000):\n",
    "  array.append(Row(num=i, bit = i % 2))\n",
    "  \n",
    "dataFrame = sqlContext.createDataFrame(sc.parallelize(array))\n",
    "dataFrame.repartition(100).registerTempTable(\"my_large_table\")"
   ]
  },
  {
   "cell_type": "code",
   "execution_count": null,
   "metadata": {
    "collapsed": true,
    "slideshow": {
     "slide_type": "skip"
    }
   },
   "outputs": [],
   "source": [
    "display(dataFrame)"
   ]
  },
  {
   "cell_type": "markdown",
   "metadata": {
    "slideshow": {
     "slide_type": "subslide"
    }
   },
   "source": [
    "### By default, Spark uses ShuffledHashJoin to join this table with a small table."
   ]
  },
  {
   "cell_type": "code",
   "execution_count": null,
   "metadata": {
    "collapsed": true,
    "slideshow": {
     "slide_type": "skip"
    }
   },
   "outputs": [],
   "source": [
    "from pyspark.sql import Row\n",
    "\n",
    "array = []\n",
    "for i in range(0, 2):\n",
    "  array.append(Row(bit=i))\n",
    "  \n",
    "dataFrame = sqlContext.createDataFrame(sc.parallelize(array))\n",
    "dataFrame.registerTempTable(\"my_small_temp_table\")"
   ]
  },
  {
   "cell_type": "markdown",
   "metadata": {
    "slideshow": {
     "slide_type": "slide"
    }
   },
   "source": [
    "#### Tip: `EXPLAIN` can be used to print out the Spark execution plan for a Spark SQL query."
   ]
  },
  {
   "cell_type": "code",
   "execution_count": null,
   "metadata": {
    "collapsed": true,
    "slideshow": {
     "slide_type": "-"
    }
   },
   "outputs": [],
   "source": [
    "%sql EXPLAIN SELECT * FROM my_large_table JOIN my_small_temp_table ON my_large_table.bit = my_small_temp_table.bit"
   ]
  },
  {
   "cell_type": "markdown",
   "metadata": {
    "slideshow": {
     "slide_type": "slide"
    }
   },
   "source": [
    "### **ShuffleHashJoin** and **SortMergeJoin** are not a great ways to join the two tables above.\n",
    "*  It will take all the rows in `my_large_table` and shuffle them with the \"bit\" key.\n",
    "* **NOTE:** There will only be **2** non-empty partitions for the whole table, and adding more worker nodes to the job would not help."
   ]
  },
  {
   "cell_type": "code",
   "execution_count": null,
   "metadata": {
    "collapsed": true,
    "slideshow": {
     "slide_type": "subslide"
    }
   },
   "outputs": [],
   "source": [
    "def output_index_and_count(index, iter):\n",
    "  count = 0\n",
    "  for item in iter:\n",
    "    count += 1\n",
    "  yield (index, count)\n",
    "\n",
    "sqlContext.sql(\"SELECT * FROM my_large_table JOIN my_small_temp_table ON my_large_table.bit = my_small_temp_table.bit\")\\\n",
    "  .rdd.mapPartitionsWithIndex(output_index_and_count).filter(lambda p: p[1] > 0).collect()"
   ]
  },
  {
   "cell_type": "markdown",
   "metadata": {
    "slideshow": {
     "slide_type": "slide"
    }
   },
   "source": [
    "### **BroadcastHashJoin** is a much better way to join these two tables.\n",
    "* SparkSQL detects that one table is small enough to broadcast.\n",
    "* The small table is broadcast to each Spark worker and joined with each element in the larger RDD.\n",
    "* There will be more than 2 non-empty partitions, so Spark would run faster with more than two worker nodes."
   ]
  },
  {
   "cell_type": "markdown",
   "metadata": {
    "slideshow": {
     "slide_type": "subslide"
    }
   },
   "source": [
    "In order to use `BroadcastHashJoin`, save the table with DataFrames API. In that way spark will automatically figure out that the table is small enough to be broadcasted."
   ]
  },
  {
   "cell_type": "code",
   "execution_count": null,
   "metadata": {
    "collapsed": true,
    "slideshow": {
     "slide_type": "skip"
    }
   },
   "outputs": [],
   "source": [
    "%sql DROP TABLE IF EXISTS my_small_table"
   ]
  },
  {
   "cell_type": "code",
   "execution_count": null,
   "metadata": {
    "collapsed": true,
    "slideshow": {
     "slide_type": "skip"
    }
   },
   "outputs": [],
   "source": [
    "from pyspark.sql import Row\n",
    "\n",
    "array = []\n",
    "for i in range(0, 2):\n",
    "  array.append(Row(bit=i))\n",
    "  \n",
    "dataFrame = sqlContext.createDataFrame(sc.parallelize(array))\n",
    "dataFrame.write.saveAsTable(\"my_small_table\")"
   ]
  },
  {
   "cell_type": "markdown",
   "metadata": {
    "slideshow": {
     "slide_type": "slide"
    }
   },
   "source": [
    "### Use an `EXPLAIN` command to see the BroadcastHashJoin"
   ]
  },
  {
   "cell_type": "code",
   "execution_count": null,
   "metadata": {
    "collapsed": true,
    "slideshow": {
     "slide_type": "-"
    }
   },
   "outputs": [],
   "source": [
    "%sql EXPLAIN SELECT * FROM my_large_table JOIN my_small_table ON my_large_table.bit = my_small_table.bit"
   ]
  },
  {
   "cell_type": "markdown",
   "metadata": {
    "slideshow": {
     "slide_type": "notes"
    }
   },
   "source": [
    "If you didn't see a `BroadcastHashJoin` - uncomment and run the following cell:\n",
    "* Prior to Spark 1.4, you must manually run an analyze on the table.\n",
    "* With Spark 1.4 or greater - tables created with Hive DDL's rather than the Dataframes API may also need an analyze command."
   ]
  },
  {
   "cell_type": "code",
   "execution_count": null,
   "metadata": {
    "collapsed": true,
    "slideshow": {
     "slide_type": "notes"
    }
   },
   "outputs": [],
   "source": [
    "%sql \n",
    "--- Uncomment the following command and run it if you did not see a BroadcastHashJoin.\n",
    "--- ANALYZE TABLE my_small_table COMPUTE STATISTICS noscan"
   ]
  },
  {
   "cell_type": "markdown",
   "metadata": {
    "slideshow": {
     "slide_type": "slide"
    }
   },
   "source": [
    "### Join of the tables with BroadcastHashJoin\n",
    "\n",
    "See how there are now 100 evenly split partitions in the RDD."
   ]
  },
  {
   "cell_type": "code",
   "execution_count": null,
   "metadata": {
    "collapsed": true,
    "slideshow": {
     "slide_type": "subslide"
    }
   },
   "outputs": [],
   "source": [
    "broadcastHashJoinRdd =\\\n",
    "  sqlContext.sql(\"select * from my_large_table join my_small_table on my_large_table.bit = my_small_table.bit\").rdd"
   ]
  },
  {
   "cell_type": "code",
   "execution_count": null,
   "metadata": {
    "collapsed": true,
    "slideshow": {
     "slide_type": "subslide"
    }
   },
   "outputs": [],
   "source": [
    "broadcastHashJoinRdd.mapPartitionsWithIndex(output_index_and_count).filter(lambda p: p[1] > 0).collect()"
   ]
  },
  {
   "cell_type": "markdown",
   "metadata": {
    "slideshow": {
     "slide_type": "notes"
    }
   },
   "source": [
    "**Cleanup: delete any tables that were created for this example.**"
   ]
  },
  {
   "cell_type": "code",
   "execution_count": null,
   "metadata": {
    "collapsed": true,
    "slideshow": {
     "slide_type": "notes"
    }
   },
   "outputs": [],
   "source": [
    "%sql DROP TABLE IF EXISTS my_small_table"
   ]
  }
 ],
 "metadata": {
  "anaconda-cloud": {},
  "kernelspec": {
   "display_name": "Python [conda env:dsci6007]",
   "language": "python",
   "name": "conda-env-dsci6007-py"
  },
  "language_info": {
   "codemirror_mode": {
    "name": "ipython",
    "version": 2
   },
   "file_extension": ".py",
   "mimetype": "text/x-python",
   "name": "python",
   "nbconvert_exporter": "python",
   "pygments_lexer": "ipython2",
   "version": "2.7.12"
  },
  "name": "workshop lab",
  "notebookId": 3767766597858743
 },
 "nbformat": 4,
 "nbformat_minor": 0
}
